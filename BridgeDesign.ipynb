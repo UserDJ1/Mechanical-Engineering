{
 "cells": [
  {
   "cell_type": "code",
   "execution_count": 1,
   "id": "56d408c9-553c-440f-aacd-f62696a4440f",
   "metadata": {},
   "outputs": [],
   "source": [
    "#Non-custom imports.\n",
    "#\n",
    "#Imports for unused modules are commented out to minimize errors and setup.\n",
    "\n",
    "import matplotlib as mpl\n",
    "import matplotlib.pyplot as plt\n",
    "import numpy as np\n",
    "import math\n",
    "#from matplotlib.animation import FuncAnimation\n",
    "import time\n",
    "#import matplotlib.animation as animation\n",
    "#import seaborn as sns\n",
    "#import pandas as pd\n",
    "#from graphics import *\n",
    "#import sys\n",
    "#import random\n",
    "#import re\n",
    "from tqdm import tqdm\n",
    "#import pandas as pd"
   ]
  },
  {
   "cell_type": "code",
   "execution_count": null,
   "id": "add2aae7-64dc-4a9a-a16e-85b37df14f14",
   "metadata": {},
   "outputs": [],
   "source": [
    "A = np.array(\n",
    "        [[np.cos(θ), 0, 0, 0, 0, 0, 1, 0, 0],\n",
    "         [np.sin(θ), 0, 0, 0, 0, 0, 0, 0, 1/2],\n",
    "         [-np.cos(θ), np.cos(θ), 0, 0, 0, 0, 0, 1, 0],\n",
    "         [-np.sin(θ), -np.sin(θ), 0, 0, 0, 0, 0, 0, 0],\n",
    "         [0, -np.cos(θ), np.cos(ϕ), 0, 0, 0, 0, 0, 0],\n",
    "         [0, np.sin(θ), np.sin(ϕ), 0, 0, 0, 0, 0, 0],\n",
    "         [0, 0, -np.cos(ϕ), np.cos(ϕ), 0, 0, 0, 0, 0],\n",
    "         [0, 0, -np.sin(ϕ), -np.sin(ϕ), 0, 0, 0, 0, 0],\n",
    "         [0, 0, 0, -np.cos(ϕ), np.cos(θ), 0, 0, 0, 0],\n",
    "         [0, 0, 0, np.sin(ϕ), np.sin(θ), 0, 0, 0, 0],\n",
    "         [0, 0, 0, 0, -np.cos(θ), np.cos(θ), 0, -1, 0],\n",
    "         [0, 0, 0, 0, -np.sin(θ), -np.sin(θ), 0, 0, 0],\n",
    "         [0, 0, 0, 0, 0, -np.cos(θ), -1, 0, 0],\n",
    "         [0, 0, 0, 0, 0, np.sin(θ), 0, 0, 1/2]]\n",
    "    )"
   ]
  },
  {
   "cell_type": "code",
   "execution_count": null,
   "id": "8ebb772a-dbf3-4f50-84e0-cdcbf07c2617",
   "metadata": {},
   "outputs": [],
   "source": [
    "\n",
    "\n",
    "\n"
   ]
  },
  {
   "cell_type": "code",
   "execution_count": 185,
   "id": "cd6f0d0c-b589-4079-9f64-8ec5f63d7327",
   "metadata": {},
   "outputs": [],
   "source": [
    "def Tcalc(θ, ϕ, P):\n",
    "    \n",
    "    A = np.array([\n",
    "        [0, np.cos(θ), 0, 1, 1],\n",
    "        [0, -np.sin(θ), 0, 0, 0],\n",
    "        [-np.cos(θ), 0, np.cos(ϕ), 0, 1],\n",
    "        [-np.sin(θ), 0, np.sin(ϕ), 0, 0],\n",
    "        [0, -np.cos(θ), np.cos(ϕ), 0, 0],\n",
    "        [0, np.sin(θ), -np.sin(ϕ), 0, 0],\n",
    "        [2*np.sin(θ), 2*np.sin(θ), 2*np.sin(ϕ), 0, 0]\n",
    "    ])\n",
    "    \n",
    "    B = np.zeros(7)\n",
    "    B[1] = -P/2\n",
    "    B[5] = P/2\n",
    "    B[6] = -P\n",
    "    \n",
    "    \n",
    "    c = np.linalg.lstsq(A, B, rcond=None)[0]\n",
    "    \n",
    "    return A, c"
   ]
  },
  {
   "cell_type": "code",
   "execution_count": 225,
   "id": "7b64fd13-32fd-4ed1-91f6-63342f58d694",
   "metadata": {},
   "outputs": [
    {
     "data": {
      "text/plain": [
       "array([-7.529,  1.303, -4.209,  1.678, -2.762])"
      ]
     },
     "execution_count": 225,
     "metadata": {},
     "output_type": "execute_result"
    }
   ],
   "source": [
    "np.around(Tcalc(np.deg2rad(33.7), np.deg2rad(33.7), 12.5)[1], 3)"
   ]
  },
  {
   "cell_type": "code",
   "execution_count": 226,
   "id": "5bf18361-1565-4f82-be8c-0d13afe20353",
   "metadata": {},
   "outputs": [
    {
     "data": {
      "text/plain": [
       "array([ 9.600000e-05, -7.231650e-01,  2.400000e-04,  1.842600e+00,\n",
       "       -4.585984e+00,  3.059160e+00, -1.158285e+01])"
      ]
     },
     "execution_count": 226,
     "metadata": {},
     "output_type": "execute_result"
    }
   ],
   "source": [
    "A, B = Tcalc(np.deg2rad(33.7), np.deg2rad(33.7), 12.5)\n",
    "A = np.around(A, 3)\n",
    "B = np.around(B, 3)\n",
    "\n",
    "np.dot(A, B)"
   ]
  },
  {
   "cell_type": "code",
   "execution_count": 256,
   "id": "44e98c4b-e3ec-4bb2-8e4f-4eff2cbd164d",
   "metadata": {},
   "outputs": [],
   "source": [
    "def TcalcJoints(θ, P):\n",
    "    \n",
    "    A = np.array([\n",
    "        [np.cos(θ),  0,          0,            1, 0], #A_x\n",
    "        [np.sin(θ),  0,          0,            0, 0], #A_y\n",
    "        [-np.cos(θ), np.cos(θ),  0,            0, 1], #B_x\n",
    "        [0,          -np.cos(θ), np.cos(θ),    0, 0], #C_x\n",
    "        [0,          0,          -2*np.sin(θ), 0, 0]  #D_y\n",
    "    ]) #All excluded rows are linear combinations of other rows\n",
    "    \n",
    "    B = np.zeros(5)\n",
    "    B[1] = -P/2\n",
    "    B[4] = P\n",
    "    \n",
    "    C = np.linalg.solve(A, B)\n",
    "    \n",
    "    return A, B, C"
   ]
  },
  {
   "cell_type": "code",
   "execution_count": 257,
   "id": "61201239-1d9b-449d-af9f-708852f22f7f",
   "metadata": {},
   "outputs": [
    {
     "data": {
      "text/plain": [
       "array([-11.264, -11.264, -11.264,   9.371,  -0.   ])"
      ]
     },
     "execution_count": 257,
     "metadata": {},
     "output_type": "execute_result"
    }
   ],
   "source": [
    "np.around(TcalcJoints(np.deg2rad(33.7), 12.5)[2], 3)"
   ]
  },
  {
   "cell_type": "code",
   "execution_count": 258,
   "id": "abd67174-417f-4959-98a9-5013d9c30359",
   "metadata": {},
   "outputs": [
    {
     "name": "stdout",
     "output_type": "stream",
     "text": [
      "[ 0.   -6.25 -0.   -0.   12.5 ]\n",
      "[ 0.   -6.25  0.    0.   12.5 ]\n"
     ]
    }
   ],
   "source": [
    "A, B, C = TcalcJoints(np.deg2rad(33.7), 12.5)\n",
    "\n",
    "#A = np.around(A, 5)\n",
    "#B = np.around(B, 5)\n",
    "#C = np.around(C, 5)\n",
    "\n",
    "print(np.around(np.dot(A, C), 3))\n",
    "print(B)"
   ]
  },
  {
   "cell_type": "code",
   "execution_count": 7,
   "id": "758f08c6-b793-42d5-a3b5-007e37a39b06",
   "metadata": {},
   "outputs": [
    {
     "name": "stdout",
     "output_type": "stream",
     "text": [
      "[-11.264  11.264 -11.264   9.371  28.114 -18.743]\n",
      "\n",
      "[ 0.   -6.25  0.    0.    0.   12.5 ]\n",
      "[ 0.   -6.25  0.    0.    0.   12.5 ]\n"
     ]
    }
   ],
   "source": [
    "import numpy as np\n",
    "\n",
    "def TcalcJoints2(θ, P):\n",
    "    \n",
    "    A = np.array([\n",
    "        #AB          BC          CD            AC  CE  BD\n",
    "        [np.cos(θ),  0,          0,            1,  0,  0], # =0      0 A_x\n",
    "        [np.sin(θ),  0,          0,            0,  0,  0], # =-P/2   1 A_y\n",
    "        [-np.cos(θ), np.cos(θ),  0,            0,  0,  1], # =0      2 B_x\n",
    "        [-np.sin(θ), -np.sin(θ), 0,            0,  0,  0], # =0      3 B_y\n",
    "        [0,          -np.cos(θ), np.cos(θ),    -1, 1,  0], # =0      4 C_x\n",
    "        [0,          0,          -2*np.sin(θ), 0,  0,  0], # =P      5 D_y\n",
    "    ]) #All excluded rows are linear combinations of other rows\n",
    "    #C_y = -1*B_y + A_y + -(1/2)*D_y\n",
    "    #D_x is all zeros\n",
    "    #E_x = -1*C_x\n",
    "    #E_y = C_y\n",
    "    #F_x = -1*B_x\n",
    "    #F_y = B_y\n",
    "    #G_x = -1*A_x\n",
    "    #G_y = A_y\n",
    "    \n",
    "    B = np.zeros(6)\n",
    "    B[1] = -P/2\n",
    "    B[5] = P\n",
    "    \n",
    "    C = np.linalg.solve(A, B)\n",
    "    \n",
    "    return A, B, C\n",
    "\n",
    "A, B, C = TcalcJoints2(np.deg2rad(33.7), 12.5)\n",
    "\n",
    "print(np.around(C, 3))\n",
    "\n",
    "print()\n",
    "\n",
    "print(np.around(np.dot(A, C), 3))\n",
    "print(B)"
   ]
  },
  {
   "cell_type": "code",
   "execution_count": null,
   "id": "cf127fa0-c7b3-43b8-beed-cddf82d70754",
   "metadata": {},
   "outputs": [],
   "source": []
  }
 ],
 "metadata": {
  "kernelspec": {
   "display_name": "Python 3 (ipykernel)",
   "language": "python",
   "name": "python3"
  },
  "language_info": {
   "codemirror_mode": {
    "name": "ipython",
    "version": 3
   },
   "file_extension": ".py",
   "mimetype": "text/x-python",
   "name": "python",
   "nbconvert_exporter": "python",
   "pygments_lexer": "ipython3",
   "version": "3.8.8"
  }
 },
 "nbformat": 4,
 "nbformat_minor": 5
}
